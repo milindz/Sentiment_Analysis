{
 "cells": [
  {
   "cell_type": "code",
   "execution_count": 1,
   "metadata": {},
   "outputs": [],
   "source": [
    "import json"
   ]
  },
  {
   "cell_type": "code",
   "execution_count": 2,
   "metadata": {},
   "outputs": [],
   "source": [
    "file_path = \"./data/Books_review.json\""
   ]
  },
  {
   "cell_type": "code",
   "execution_count": 3,
   "metadata": {},
   "outputs": [],
   "source": [
    "import random"
   ]
  },
  {
   "cell_type": "code",
   "execution_count": 4,
   "metadata": {},
   "outputs": [],
   "source": [
    "class Review:\n",
    "    def __init__(self, text, score):\n",
    "        self.text = text\n",
    "        self.score = score\n",
    "        self.sentiment = self.get_sentiment()\n",
    "        \n",
    "    def get_sentiment(self):\n",
    "        if self.score <= 2:\n",
    "            return \"NEGATIVE\"\n",
    "        elif self.score == 3:\n",
    "            return \"NEUTRAL\"\n",
    "        else: \n",
    "            return \"POSITIVE\"\n",
    "        \n",
    "        \n",
    "class Reviews_Spread:\n",
    "    def __init__(self,reviews):\n",
    "        self.reviews = reviews\n",
    "    \n",
    "    \n",
    "    def get_text(self):\n",
    "        return [i.text for i in self.reviews]\n",
    "    \n",
    "    def get_sentiment(self):\n",
    "        return [x.sentiment for x in self.reviews]\n",
    "    \n",
    "    def data_balance(self):\n",
    "        negative = list(filter(lambda x: x.sentiment == \"NEGATIVE\", self.reviews))\n",
    "        positive = list(filter(lambda x: x.sentiment == \"POSITIVE\", self.reviews))\n",
    "        positive_red = positive[:len(negative)]\n",
    "        self.reviews = negative + positive_red\n",
    "        random.shuffle(self.reviews)\n",
    "        \n",
    "    \n"
   ]
  },
  {
   "cell_type": "code",
   "execution_count": 5,
   "metadata": {},
   "outputs": [],
   "source": [
    "reviews = []"
   ]
  },
  {
   "cell_type": "code",
   "execution_count": 6,
   "metadata": {},
   "outputs": [],
   "source": [
    "with open(file_path) as f:\n",
    "    for line in f:\n",
    "        review = json.loads(line)\n",
    "        reviews.append(Review(review[\"reviewText\"],review[\"overall\"]))\n",
    "\n",
    "                       \n",
    "        "
   ]
  },
  {
   "cell_type": "code",
   "execution_count": 7,
   "metadata": {},
   "outputs": [
    {
     "data": {
      "text/plain": [
       "\"Wow...just wow!!!! Omg I absolutely love this sensitive side to Grant!!! My heart hurt for both him and Harlow throughout the book!! I seriously and I mean SERIOUSLY still can't stand Nan!!! I need more....god the wait for book two is gonna kill me!!! You kick some serious a** Abbi and you are one of my absolute favorite authors!!! Thank you so much for writing this series!!!\""
      ]
     },
     "execution_count": 7,
     "metadata": {},
     "output_type": "execute_result"
    }
   ],
   "source": [
    "reviews[25].text"
   ]
  },
  {
   "cell_type": "code",
   "execution_count": 8,
   "metadata": {},
   "outputs": [
    {
     "data": {
      "text/plain": [
       "5.0"
      ]
     },
     "execution_count": 8,
     "metadata": {},
     "output_type": "execute_result"
    }
   ],
   "source": [
    "reviews[25].score"
   ]
  },
  {
   "cell_type": "code",
   "execution_count": 9,
   "metadata": {},
   "outputs": [
    {
     "data": {
      "text/plain": [
       "'POSITIVE'"
      ]
     },
     "execution_count": 9,
     "metadata": {},
     "output_type": "execute_result"
    }
   ],
   "source": [
    "reviews[25].sentiment"
   ]
  },
  {
   "cell_type": "code",
   "execution_count": 10,
   "metadata": {},
   "outputs": [
    {
     "data": {
      "text/plain": [
       "'POSITIVE'"
      ]
     },
     "execution_count": 10,
     "metadata": {},
     "output_type": "execute_result"
    }
   ],
   "source": [
    "reviews[10].sentiment"
   ]
  },
  {
   "cell_type": "code",
   "execution_count": 11,
   "metadata": {},
   "outputs": [
    {
     "data": {
      "text/plain": [
       "10000"
      ]
     },
     "execution_count": 11,
     "metadata": {},
     "output_type": "execute_result"
    }
   ],
   "source": [
    "len(reviews)"
   ]
  },
  {
   "cell_type": "code",
   "execution_count": null,
   "metadata": {},
   "outputs": [],
   "source": []
  },
  {
   "cell_type": "code",
   "execution_count": null,
   "metadata": {},
   "outputs": [],
   "source": []
  },
  {
   "cell_type": "markdown",
   "metadata": {},
   "source": [
    "#### Splitting data into training and test"
   ]
  },
  {
   "cell_type": "code",
   "execution_count": 12,
   "metadata": {},
   "outputs": [],
   "source": [
    "from sklearn.model_selection import train_test_split\n",
    "\n",
    "training, test = train_test_split(reviews, test_size=0.33, random_state=42)\n",
    "\n",
    "\n",
    "\n",
    "train_container = Reviews_Spread(training)\n",
    "\n",
    "test_container = Reviews_Spread(test)"
   ]
  },
  {
   "cell_type": "code",
   "execution_count": 20,
   "metadata": {},
   "outputs": [
    {
     "name": "stdout",
     "output_type": "stream",
     "text": [
      "436\n",
      "436\n"
     ]
    }
   ],
   "source": [
    "train_container.data_balance()\n",
    "train_x = train_container.get_text()\n",
    "train_y = train_container.get_sentiment()\n",
    "\n",
    "test_container.data_balance()\n",
    "test_x = test_container.get_text()\n",
    "test_y = test_container.get_sentiment()\n",
    "\n",
    "print(train_y.count(\"POSITIVE\"))\n",
    "print(train_y.count(\"NEGATIVE\"))"
   ]
  },
  {
   "cell_type": "code",
   "execution_count": 21,
   "metadata": {},
   "outputs": [
    {
     "data": {
      "text/plain": [
       "(872, 416)"
      ]
     },
     "execution_count": 21,
     "metadata": {},
     "output_type": "execute_result"
    }
   ],
   "source": [
    "len(train_x),len(test_x)"
   ]
  },
  {
   "cell_type": "markdown",
   "metadata": {},
   "source": [
    "#### Bag of words "
   ]
  },
  {
   "cell_type": "code",
   "execution_count": 22,
   "metadata": {},
   "outputs": [],
   "source": [
    "from sklearn.feature_extraction.text import TfidfVectorizer\n",
    "vector = TfidfVectorizer()"
   ]
  },
  {
   "cell_type": "code",
   "execution_count": 23,
   "metadata": {},
   "outputs": [],
   "source": [
    "train_x_vector =  vector.fit_transform(train_x)\n",
    "test_x_vector =   vector.transform(test_x)"
   ]
  },
  {
   "cell_type": "code",
   "execution_count": 24,
   "metadata": {},
   "outputs": [
    {
     "name": "stdout",
     "output_type": "stream",
     "text": [
      "I received a complimentary copy from the author in exchange for an honest review...so I can honestly say...I only finished this book because it was a gifted copy.Wow - I'm so put off and disturbed by the actions of the characters in this book I'm not sure I can continue reading the series. If you enjoyed Cheyenne and Dylan's HEA in When Snow Falls, you might not want to read this book. Cheyenne's on the train to Crazy Town and took Aaron and Presley with her. The whole Cheyenne/Dylan storyline is WRONG. Period. I can't believe the book ends the way it did with them. I thought this book would resolve the huge secret of Wyatt's paternity Cheyenne kept at the end of her book, but instead we're left with an even bigger secret - one that can't possibly bring her any kind of HEA. The Cheyenne/Dylan storyline bothered me so much that it really overshadows everything else in the book.So many characters in the book keeping secrets and lies, supposedly justified, but not really. In addition, the &#34;love&#34; story of Aaron and Presley didn't work for me. I didn't feel like they had chemistry. Even the &#34;big&#34; ending made Aaron look bad. I'm all for second chance romances, but in a lot of ways their original romance (such as it was) was more toxic than anything. I wish more focus had been on them working through their issues and trying to have a real relationship versus the &#34;let's have fun til you leave&#34; fling they chose. I also can't understand why we had the &#34;triangle&#34; with Riley either.  It was the same storyline from the previous book - just insert Riley instead of Eve.For being a contemporary romance, this book is a little dark and depressing for me.  I guess technically there is a &#34;HEA&#34;, but given the major cliffhangers, the book didn't feel complete and makes the HEA hard to accept because you know there is more to come. I tried to like Aaron and Presley's story, but this book just wasn't my cup of tea.\n",
      "  (0, 7827)\t0.05119138925073821\n",
      "  (0, 1914)\t0.05217753033007438\n",
      "  (0, 5260)\t0.022175506624227695\n",
      "  (0, 8612)\t0.03798499776246199\n",
      "  (0, 8178)\t0.04299727896009522\n",
      "  (0, 1559)\t0.03690798525579408\n",
      "  (0, 4497)\t0.03031916027788345\n",
      "  (0, 172)\t0.054529753836293285\n",
      "  (0, 3631)\t0.03753921429847938\n",
      "  (0, 4864)\t0.03540722880047947\n",
      "  (0, 1607)\t0.048042115611399774\n",
      "  (0, 1495)\t0.06625521871458365\n",
      "  (0, 4859)\t0.048042115611399774\n",
      "  (0, 3394)\t0.04122603373968128\n",
      "  (0, 7951)\t0.048486005947250395\n",
      "  (0, 7844)\t0.06625521871458365\n",
      "  (0, 3551)\t0.04470375102584469\n",
      "  (0, 2132)\t0.05217753033007438\n",
      "  (0, 1983)\t0.046792304039903095\n",
      "  (0, 4722)\t0.03031916027788345\n",
      "  (0, 1707)\t0.05767902747563172\n",
      "  (0, 825)\t0.032086213030816706\n",
      "  (0, 2780)\t0.06246019363477577\n",
      "  (0, 4135)\t0.05976758048969012\n",
      "  (0, 4409)\t0.044691374752071474\n",
      "  :\t:\n",
      "  (0, 8826)\t0.05119138925073821\n",
      "  (0, 3384)\t0.05976758048969012\n",
      "  (0, 8608)\t0.06465408191893035\n",
      "  (0, 4277)\t0.06808097445596303\n",
      "  (0, 797)\t0.05699200640459557\n",
      "  (0, 991)\t0.1650280577084645\n",
      "  (0, 7976)\t0.07528580139950053\n",
      "  (0, 3077)\t0.04122603373968128\n",
      "  (0, 5520)\t0.029546789614551674\n",
      "  (0, 6880)\t0.033964427226890505\n",
      "  (0, 3839)\t0.05327994226479661\n",
      "  (0, 1219)\t0.12017500723536714\n",
      "  (0, 7280)\t0.0856275744495975\n",
      "  (0, 6644)\t0.03540722880047947\n",
      "  (0, 3838)\t0.03946592437244785\n",
      "  (0, 416)\t0.04512571829769679\n",
      "  (0, 3177)\t0.08081760239866292\n",
      "  (0, 2824)\t0.04470375102584469\n",
      "  (0, 4034)\t0.1074956229693859\n",
      "  (0, 660)\t0.025299517944602105\n",
      "  (0, 7929)\t0.24616203181617816\n",
      "  (0, 3264)\t0.04736352784437823\n",
      "  (0, 1764)\t0.0852303960235726\n",
      "  (0, 1617)\t0.054529753836293285\n",
      "  (0, 6426)\t0.04224810455025731\n"
     ]
    },
    {
     "data": {
      "text/plain": [
       "(872, 8906)"
      ]
     },
     "execution_count": 24,
     "metadata": {},
     "output_type": "execute_result"
    }
   ],
   "source": [
    "print(train_x[0])\n",
    "print(train_x_vector[0])\n",
    "train_x_vector.shape"
   ]
  },
  {
   "cell_type": "code",
   "execution_count": 25,
   "metadata": {},
   "outputs": [
    {
     "name": "stdout",
     "output_type": "stream",
     "text": [
      "I really have enjoyed this series and can't wait for the next one to come out. I especially liked that the author gave Kid and Jason their own stories, even though they occurred at the same time. She could have easily put them both into one book and jumped between locations. I am so glad she didn't.The last two installments have not had as much sensuality as the previous 3 books, but the story line is there, so you don't necessarily miss it. I do like how she has not just dropped the other characters in sacrifice to the current beau.This is a great series.\n",
      "  (0, 8879)\t0.05970852573215447\n",
      "  (0, 8572)\t0.10823912621830749\n",
      "  (0, 8255)\t0.09201207568656643\n",
      "  (0, 8052)\t0.07054933230160364\n",
      "  (0, 8036)\t0.07459027771864277\n",
      "  (0, 7986)\t0.10476935339308607\n",
      "  (0, 7976)\t0.07277587875510333\n",
      "  (0, 7956)\t0.07605782076223942\n",
      "  (0, 7951)\t0.0703043261387078\n",
      "  (0, 7938)\t0.0823988133577062\n",
      "  (0, 7935)\t0.08851517348930724\n",
      "  (0, 7929)\t0.2595876394685867\n",
      "  (0, 7925)\t0.048259435249688475\n",
      "  (0, 7533)\t0.05686938102762462\n",
      "  (0, 7530)\t0.09982061132562985\n",
      "  (0, 7280)\t0.1241593074735902\n",
      "  (0, 7063)\t0.23223125285120996\n",
      "  (0, 7002)\t0.1597970682154747\n",
      "  (0, 6844)\t0.10762914696469325\n",
      "  (0, 6411)\t0.07219878793079816\n",
      "  (0, 6293)\t0.09764801735691563\n",
      "  (0, 6112)\t0.14133288513819856\n",
      "  (0, 5637)\t0.11445055802141185\n",
      "  (0, 5589)\t0.0733682028857757\n",
      "  (0, 5583)\t0.0823988133577062\n",
      "  :\t:\n",
      "  (0, 3332)\t0.11604766185737089\n",
      "  (0, 3177)\t0.046873954377396804\n",
      "  (0, 2781)\t0.0851529922650715\n",
      "  (0, 2760)\t0.11863465982156403\n",
      "  (0, 2688)\t0.09235350074764578\n",
      "  (0, 2535)\t0.15131401474597617\n",
      "  (0, 2468)\t0.16726826967030317\n",
      "  (0, 2383)\t0.08568522371890794\n",
      "  (0, 2355)\t0.08312266784053049\n",
      "  (0, 2230)\t0.08595530489715189\n",
      "  (0, 1922)\t0.18113357609878114\n",
      "  (0, 1790)\t0.07841956486550254\n",
      "  (0, 1559)\t0.10703257494003235\n",
      "  (0, 1362)\t0.06955239621322538\n",
      "  (0, 1219)\t0.06970112499337305\n",
      "  (0, 1168)\t0.04957697551049757\n",
      "  (0, 1016)\t0.10762914696469325\n",
      "  (0, 996)\t0.0768224610295435\n",
      "  (0, 991)\t0.03988156364056809\n",
      "  (0, 874)\t0.10823912621830749\n",
      "  (0, 660)\t0.0733682028857757\n",
      "  (0, 611)\t0.06455425843702459\n",
      "  (0, 569)\t0.12837325684511464\n",
      "  (0, 423)\t0.10297957489330288\n",
      "  (0, 387)\t0.08911837463464199\n"
     ]
    },
    {
     "data": {
      "text/plain": [
       "(416, 8906)"
      ]
     },
     "execution_count": 25,
     "metadata": {},
     "output_type": "execute_result"
    }
   ],
   "source": [
    "print(test_x[0])\n",
    "print(test_x_vector[0])\n",
    "test_x_vector.shape"
   ]
  },
  {
   "cell_type": "code",
   "execution_count": null,
   "metadata": {},
   "outputs": [],
   "source": []
  },
  {
   "cell_type": "code",
   "execution_count": null,
   "metadata": {},
   "outputs": [],
   "source": []
  },
  {
   "cell_type": "markdown",
   "metadata": {},
   "source": [
    "##  Modeling "
   ]
  },
  {
   "cell_type": "markdown",
   "metadata": {},
   "source": [
    "####  Linear svc"
   ]
  },
  {
   "cell_type": "code",
   "execution_count": 26,
   "metadata": {},
   "outputs": [],
   "source": [
    "from sklearn import svm\n",
    "\n",
    "svm_clf = svm.SVC(kernel='linear')\n"
   ]
  },
  {
   "cell_type": "code",
   "execution_count": 29,
   "metadata": {},
   "outputs": [
    {
     "data": {
      "text/plain": [
       "\"I really have enjoyed this series and can't wait for the next one to come out. I especially liked that the author gave Kid and Jason their own stories, even though they occurred at the same time. She could have easily put them both into one book and jumped between locations. I am so glad she didn't.The last two installments have not had as much sensuality as the previous 3 books, but the story line is there, so you don't necessarily miss it. I do like how she has not just dropped the other characters in sacrifice to the current beau.This is a great series.\""
      ]
     },
     "execution_count": 29,
     "metadata": {},
     "output_type": "execute_result"
    }
   ],
   "source": [
    "test_x[0]"
   ]
  },
  {
   "cell_type": "code",
   "execution_count": 27,
   "metadata": {},
   "outputs": [
    {
     "data": {
      "text/plain": [
       "'POSITIVE'"
      ]
     },
     "execution_count": 27,
     "metadata": {},
     "output_type": "execute_result"
    }
   ],
   "source": [
    "test_y[0]"
   ]
  },
  {
   "cell_type": "code",
   "execution_count": 28,
   "metadata": {},
   "outputs": [
    {
     "name": "stdout",
     "output_type": "stream",
     "text": [
      "  (0, 8879)\t0.05970852573215447\n",
      "  (0, 8572)\t0.10823912621830749\n",
      "  (0, 8255)\t0.09201207568656643\n",
      "  (0, 8052)\t0.07054933230160364\n",
      "  (0, 8036)\t0.07459027771864277\n",
      "  (0, 7986)\t0.10476935339308607\n",
      "  (0, 7976)\t0.07277587875510333\n",
      "  (0, 7956)\t0.07605782076223942\n",
      "  (0, 7951)\t0.0703043261387078\n",
      "  (0, 7938)\t0.0823988133577062\n",
      "  (0, 7935)\t0.08851517348930724\n",
      "  (0, 7929)\t0.2595876394685867\n",
      "  (0, 7925)\t0.048259435249688475\n",
      "  (0, 7533)\t0.05686938102762462\n",
      "  (0, 7530)\t0.09982061132562985\n",
      "  (0, 7280)\t0.1241593074735902\n",
      "  (0, 7063)\t0.23223125285120996\n",
      "  (0, 7002)\t0.1597970682154747\n",
      "  (0, 6844)\t0.10762914696469325\n",
      "  (0, 6411)\t0.07219878793079816\n",
      "  (0, 6293)\t0.09764801735691563\n",
      "  (0, 6112)\t0.14133288513819856\n",
      "  (0, 5637)\t0.11445055802141185\n",
      "  (0, 5589)\t0.0733682028857757\n",
      "  (0, 5583)\t0.0823988133577062\n",
      "  :\t:\n",
      "  (0, 3332)\t0.11604766185737089\n",
      "  (0, 3177)\t0.046873954377396804\n",
      "  (0, 2781)\t0.0851529922650715\n",
      "  (0, 2760)\t0.11863465982156403\n",
      "  (0, 2688)\t0.09235350074764578\n",
      "  (0, 2535)\t0.15131401474597617\n",
      "  (0, 2468)\t0.16726826967030317\n",
      "  (0, 2383)\t0.08568522371890794\n",
      "  (0, 2355)\t0.08312266784053049\n",
      "  (0, 2230)\t0.08595530489715189\n",
      "  (0, 1922)\t0.18113357609878114\n",
      "  (0, 1790)\t0.07841956486550254\n",
      "  (0, 1559)\t0.10703257494003235\n",
      "  (0, 1362)\t0.06955239621322538\n",
      "  (0, 1219)\t0.06970112499337305\n",
      "  (0, 1168)\t0.04957697551049757\n",
      "  (0, 1016)\t0.10762914696469325\n",
      "  (0, 996)\t0.0768224610295435\n",
      "  (0, 991)\t0.03988156364056809\n",
      "  (0, 874)\t0.10823912621830749\n",
      "  (0, 660)\t0.0733682028857757\n",
      "  (0, 611)\t0.06455425843702459\n",
      "  (0, 569)\t0.12837325684511464\n",
      "  (0, 423)\t0.10297957489330288\n",
      "  (0, 387)\t0.08911837463464199\n"
     ]
    }
   ],
   "source": [
    "print(test_x_vector[0])"
   ]
  },
  {
   "cell_type": "code",
   "execution_count": 30,
   "metadata": {},
   "outputs": [
    {
     "data": {
      "text/plain": [
       "SVC(kernel='linear')"
      ]
     },
     "execution_count": 30,
     "metadata": {},
     "output_type": "execute_result"
    }
   ],
   "source": [
    "svm_clf.fit(train_x_vector,train_y)"
   ]
  },
  {
   "cell_type": "code",
   "execution_count": 31,
   "metadata": {},
   "outputs": [
    {
     "data": {
      "text/plain": [
       "array(['POSITIVE'], dtype='<U8')"
      ]
     },
     "execution_count": 31,
     "metadata": {},
     "output_type": "execute_result"
    }
   ],
   "source": [
    "svm_clf.predict(test_x_vector[0])"
   ]
  },
  {
   "cell_type": "code",
   "execution_count": null,
   "metadata": {},
   "outputs": [],
   "source": []
  },
  {
   "cell_type": "markdown",
   "metadata": {},
   "source": [
    "#### Decision Tree"
   ]
  },
  {
   "cell_type": "code",
   "execution_count": 32,
   "metadata": {},
   "outputs": [
    {
     "data": {
      "text/plain": [
       "array(['POSITIVE'], dtype='<U8')"
      ]
     },
     "execution_count": 32,
     "metadata": {},
     "output_type": "execute_result"
    }
   ],
   "source": [
    "from sklearn.tree import DecisionTreeClassifier\n",
    "\n",
    "clf_dt = DecisionTreeClassifier()\n",
    "clf_dt.fit(train_x_vector, train_y)\n",
    "\n",
    "clf_dt.predict(test_x_vector[0])\n"
   ]
  },
  {
   "cell_type": "markdown",
   "metadata": {},
   "source": [
    "#### Logistic Regression"
   ]
  },
  {
   "cell_type": "code",
   "execution_count": 33,
   "metadata": {},
   "outputs": [
    {
     "data": {
      "text/plain": [
       "array(['POSITIVE'], dtype='<U8')"
      ]
     },
     "execution_count": 33,
     "metadata": {},
     "output_type": "execute_result"
    }
   ],
   "source": [
    "from sklearn.linear_model import LogisticRegression\n",
    "\n",
    "log = LogisticRegression()\n",
    "log.fit(train_x_vector, train_y)\n",
    "\n",
    "log.predict(test_x_vector[0])\n"
   ]
  },
  {
   "cell_type": "code",
   "execution_count": null,
   "metadata": {},
   "outputs": [],
   "source": []
  },
  {
   "cell_type": "markdown",
   "metadata": {},
   "source": [
    "#### Evaluation"
   ]
  },
  {
   "cell_type": "code",
   "execution_count": 34,
   "metadata": {},
   "outputs": [
    {
     "name": "stdout",
     "output_type": "stream",
     "text": [
      "0.8076923076923077\n",
      "0.6610576923076923\n",
      "0.8052884615384616\n"
     ]
    }
   ],
   "source": [
    "\n",
    "print(svm_clf.score(test_x_vector, test_y))\n",
    "print(clf_dt.score(test_x_vector, test_y))\n",
    "print(log.score(test_x_vector, test_y))"
   ]
  },
  {
   "cell_type": "code",
   "execution_count": null,
   "metadata": {},
   "outputs": [],
   "source": []
  },
  {
   "cell_type": "code",
   "execution_count": 35,
   "metadata": {},
   "outputs": [
    {
     "data": {
      "text/plain": [
       "array([0.80582524, 0.80952381])"
      ]
     },
     "execution_count": 35,
     "metadata": {},
     "output_type": "execute_result"
    }
   ],
   "source": [
    "# F1 Scores\n",
    "from sklearn.metrics import f1_score\n",
    "\n",
    "f1_score(test_y, svm_clf.predict(test_x_vector), average = None, labels = [\"POSITIVE\",\"NEGATIVE\"])"
   ]
  },
  {
   "cell_type": "code",
   "execution_count": 36,
   "metadata": {},
   "outputs": [
    {
     "data": {
      "text/plain": [
       "array([0.65693431, 0.66508314])"
      ]
     },
     "execution_count": 36,
     "metadata": {},
     "output_type": "execute_result"
    }
   ],
   "source": [
    "f1_score(test_y, clf_dt.predict(test_x_vector), average = None, labels = [\"POSITIVE\",\"NEGATIVE\"])\n"
   ]
  },
  {
   "cell_type": "code",
   "execution_count": 37,
   "metadata": {},
   "outputs": [
    {
     "data": {
      "text/plain": [
       "array([0.80291971, 0.80760095])"
      ]
     },
     "execution_count": 37,
     "metadata": {},
     "output_type": "execute_result"
    }
   ],
   "source": [
    "f1_score(test_y, log.predict(test_x_vector), average = None, labels = [\"POSITIVE\",\"NEGATIVE\"])\n"
   ]
  },
  {
   "cell_type": "code",
   "execution_count": null,
   "metadata": {},
   "outputs": [],
   "source": []
  },
  {
   "cell_type": "code",
   "execution_count": 38,
   "metadata": {},
   "outputs": [
    {
     "data": {
      "text/plain": [
       "436"
      ]
     },
     "execution_count": 38,
     "metadata": {},
     "output_type": "execute_result"
    }
   ],
   "source": [
    "train_y.count(\"POSITIVE\")"
   ]
  },
  {
   "cell_type": "code",
   "execution_count": 39,
   "metadata": {},
   "outputs": [
    {
     "data": {
      "text/plain": [
       "436"
      ]
     },
     "execution_count": 39,
     "metadata": {},
     "output_type": "execute_result"
    }
   ],
   "source": [
    "train_y.count(\"NEGATIVE\")"
   ]
  },
  {
   "cell_type": "code",
   "execution_count": 40,
   "metadata": {},
   "outputs": [
    {
     "data": {
      "text/plain": [
       "208"
      ]
     },
     "execution_count": 40,
     "metadata": {},
     "output_type": "execute_result"
    }
   ],
   "source": [
    "test_y.count(\"POSITIVE\")"
   ]
  },
  {
   "cell_type": "code",
   "execution_count": 41,
   "metadata": {},
   "outputs": [
    {
     "data": {
      "text/plain": [
       "208"
      ]
     },
     "execution_count": 41,
     "metadata": {},
     "output_type": "execute_result"
    }
   ],
   "source": [
    "test_y.count(\"NEGATIVE\")"
   ]
  },
  {
   "cell_type": "code",
   "execution_count": null,
   "metadata": {},
   "outputs": [],
   "source": []
  },
  {
   "cell_type": "markdown",
   "metadata": {},
   "source": [
    "### Tuning our model (with Grid Search)"
   ]
  },
  {
   "cell_type": "code",
   "execution_count": 43,
   "metadata": {},
   "outputs": [
    {
     "name": "stdout",
     "output_type": "stream",
     "text": [
      "Fitting 5 folds for each of 10 candidates, totalling 50 fits\n",
      "[CV] C=1, kernel=linear ..............................................\n"
     ]
    },
    {
     "name": "stderr",
     "output_type": "stream",
     "text": [
      "[Parallel(n_jobs=1)]: Using backend SequentialBackend with 1 concurrent workers.\n"
     ]
    },
    {
     "name": "stdout",
     "output_type": "stream",
     "text": [
      "[CV] .................. C=1, kernel=linear, score=0.874, total=   0.2s\n",
      "[CV] C=1, kernel=linear ..............................................\n"
     ]
    },
    {
     "name": "stderr",
     "output_type": "stream",
     "text": [
      "[Parallel(n_jobs=1)]: Done   1 out of   1 | elapsed:    0.1s remaining:    0.0s\n"
     ]
    },
    {
     "name": "stdout",
     "output_type": "stream",
     "text": [
      "[CV] .................. C=1, kernel=linear, score=0.811, total=   0.2s\n",
      "[CV] C=1, kernel=linear ..............................................\n"
     ]
    },
    {
     "name": "stderr",
     "output_type": "stream",
     "text": [
      "[Parallel(n_jobs=1)]: Done   2 out of   2 | elapsed:    0.4s remaining:    0.0s\n"
     ]
    },
    {
     "name": "stdout",
     "output_type": "stream",
     "text": [
      "[CV] .................. C=1, kernel=linear, score=0.776, total=   0.2s\n",
      "[CV] C=1, kernel=linear ..............................................\n",
      "[CV] .................. C=1, kernel=linear, score=0.799, total=   0.2s\n",
      "[CV] C=1, kernel=linear ..............................................\n",
      "[CV] .................. C=1, kernel=linear, score=0.879, total=   0.2s\n",
      "[CV] C=1, kernel=rbf .................................................\n",
      "[CV] ..................... C=1, kernel=rbf, score=0.857, total=   0.2s\n",
      "[CV] C=1, kernel=rbf .................................................\n",
      "[CV] ..................... C=1, kernel=rbf, score=0.829, total=   0.3s\n",
      "[CV] C=1, kernel=rbf .................................................\n",
      "[CV] ..................... C=1, kernel=rbf, score=0.776, total=   0.2s\n",
      "[CV] C=1, kernel=rbf .................................................\n",
      "[CV] ..................... C=1, kernel=rbf, score=0.793, total=   0.2s\n",
      "[CV] C=1, kernel=rbf .................................................\n",
      "[CV] ..................... C=1, kernel=rbf, score=0.862, total=   0.2s\n",
      "[CV] C=4, kernel=linear ..............................................\n",
      "[CV] .................. C=4, kernel=linear, score=0.863, total=   0.2s\n",
      "[CV] C=4, kernel=linear ..............................................\n",
      "[CV] .................. C=4, kernel=linear, score=0.806, total=   0.2s\n",
      "[CV] C=4, kernel=linear ..............................................\n",
      "[CV] .................. C=4, kernel=linear, score=0.759, total=   0.2s\n",
      "[CV] C=4, kernel=linear ..............................................\n",
      "[CV] .................. C=4, kernel=linear, score=0.787, total=   0.2s\n",
      "[CV] C=4, kernel=linear ..............................................\n",
      "[CV] .................. C=4, kernel=linear, score=0.856, total=   0.2s\n",
      "[CV] C=4, kernel=rbf .................................................\n",
      "[CV] ..................... C=4, kernel=rbf, score=0.880, total=   0.2s\n",
      "[CV] C=4, kernel=rbf .................................................\n",
      "[CV] ..................... C=4, kernel=rbf, score=0.840, total=   0.2s\n",
      "[CV] C=4, kernel=rbf .................................................\n",
      "[CV] ..................... C=4, kernel=rbf, score=0.782, total=   0.2s\n",
      "[CV] C=4, kernel=rbf .................................................\n",
      "[CV] ..................... C=4, kernel=rbf, score=0.805, total=   0.3s\n",
      "[CV] C=4, kernel=rbf .................................................\n",
      "[CV] ..................... C=4, kernel=rbf, score=0.868, total=   0.2s\n",
      "[CV] C=8, kernel=linear ..............................................\n",
      "[CV] .................. C=8, kernel=linear, score=0.863, total=   0.2s\n",
      "[CV] C=8, kernel=linear ..............................................\n",
      "[CV] .................. C=8, kernel=linear, score=0.806, total=   0.2s\n",
      "[CV] C=8, kernel=linear ..............................................\n",
      "[CV] .................. C=8, kernel=linear, score=0.759, total=   0.2s\n",
      "[CV] C=8, kernel=linear ..............................................\n",
      "[CV] .................. C=8, kernel=linear, score=0.787, total=   0.2s\n",
      "[CV] C=8, kernel=linear ..............................................\n",
      "[CV] .................. C=8, kernel=linear, score=0.851, total=   0.2s\n",
      "[CV] C=8, kernel=rbf .................................................\n",
      "[CV] ..................... C=8, kernel=rbf, score=0.880, total=   0.2s\n",
      "[CV] C=8, kernel=rbf .................................................\n",
      "[CV] ..................... C=8, kernel=rbf, score=0.840, total=   0.3s\n",
      "[CV] C=8, kernel=rbf .................................................\n",
      "[CV] ..................... C=8, kernel=rbf, score=0.782, total=   0.2s\n",
      "[CV] C=8, kernel=rbf .................................................\n",
      "[CV] ..................... C=8, kernel=rbf, score=0.805, total=   0.2s\n",
      "[CV] C=8, kernel=rbf .................................................\n",
      "[CV] ..................... C=8, kernel=rbf, score=0.868, total=   0.2s\n",
      "[CV] C=16, kernel=linear .............................................\n",
      "[CV] ................. C=16, kernel=linear, score=0.863, total=   0.2s\n",
      "[CV] C=16, kernel=linear .............................................\n",
      "[CV] ................. C=16, kernel=linear, score=0.806, total=   0.2s\n",
      "[CV] C=16, kernel=linear .............................................\n",
      "[CV] ................. C=16, kernel=linear, score=0.759, total=   0.2s\n",
      "[CV] C=16, kernel=linear .............................................\n",
      "[CV] ................. C=16, kernel=linear, score=0.787, total=   0.2s\n",
      "[CV] C=16, kernel=linear .............................................\n",
      "[CV] ................. C=16, kernel=linear, score=0.851, total=   0.2s\n",
      "[CV] C=16, kernel=rbf ................................................\n",
      "[CV] .................... C=16, kernel=rbf, score=0.880, total=   0.2s\n",
      "[CV] C=16, kernel=rbf ................................................\n",
      "[CV] .................... C=16, kernel=rbf, score=0.840, total=   0.2s\n",
      "[CV] C=16, kernel=rbf ................................................\n",
      "[CV] .................... C=16, kernel=rbf, score=0.782, total=   0.2s\n",
      "[CV] C=16, kernel=rbf ................................................\n",
      "[CV] .................... C=16, kernel=rbf, score=0.805, total=   0.2s\n",
      "[CV] C=16, kernel=rbf ................................................\n",
      "[CV] .................... C=16, kernel=rbf, score=0.868, total=   0.2s\n",
      "[CV] C=32, kernel=linear .............................................\n",
      "[CV] ................. C=32, kernel=linear, score=0.863, total=   0.2s\n",
      "[CV] C=32, kernel=linear .............................................\n",
      "[CV] ................. C=32, kernel=linear, score=0.806, total=   0.2s\n",
      "[CV] C=32, kernel=linear .............................................\n",
      "[CV] ................. C=32, kernel=linear, score=0.759, total=   0.2s\n",
      "[CV] C=32, kernel=linear .............................................\n",
      "[CV] ................. C=32, kernel=linear, score=0.787, total=   0.2s\n",
      "[CV] C=32, kernel=linear .............................................\n",
      "[CV] ................. C=32, kernel=linear, score=0.851, total=   0.2s\n",
      "[CV] C=32, kernel=rbf ................................................\n",
      "[CV] .................... C=32, kernel=rbf, score=0.880, total=   0.2s\n",
      "[CV] C=32, kernel=rbf ................................................\n",
      "[CV] .................... C=32, kernel=rbf, score=0.840, total=   0.2s\n",
      "[CV] C=32, kernel=rbf ................................................\n",
      "[CV] .................... C=32, kernel=rbf, score=0.782, total=   0.2s\n",
      "[CV] C=32, kernel=rbf ................................................\n",
      "[CV] .................... C=32, kernel=rbf, score=0.805, total=   0.2s\n",
      "[CV] C=32, kernel=rbf ................................................\n",
      "[CV] .................... C=32, kernel=rbf, score=0.868, total=   0.3s\n"
     ]
    },
    {
     "name": "stderr",
     "output_type": "stream",
     "text": [
      "[Parallel(n_jobs=1)]: Done  50 out of  50 | elapsed:   11.9s finished\n"
     ]
    },
    {
     "data": {
      "text/plain": [
       "GridSearchCV(cv=5, estimator=SVC(),\n",
       "             param_grid={'C': (1, 4, 8, 16, 32), 'kernel': ('linear', 'rbf')},\n",
       "             verbose=3)"
      ]
     },
     "execution_count": 43,
     "metadata": {},
     "output_type": "execute_result"
    }
   ],
   "source": [
    "from sklearn.model_selection import GridSearchCV\n",
    "\n",
    "parameters = {'kernel': ('linear', 'rbf'), 'C': (1,4,8,16,32)}\n",
    "\n",
    "svc = svm.SVC()\n",
    "random_search = GridSearchCV(svc, parameters, cv=5 , verbose=3)\n",
    "random_search.fit(train_x_vector, train_y)\n",
    "\n"
   ]
  },
  {
   "cell_type": "code",
   "execution_count": 44,
   "metadata": {},
   "outputs": [
    {
     "name": "stdout",
     "output_type": "stream",
     "text": [
      "0.8197115384615384\n"
     ]
    }
   ],
   "source": [
    "print(random_search.score(test_x_vector, test_y))"
   ]
  },
  {
   "cell_type": "code",
   "execution_count": null,
   "metadata": {},
   "outputs": [],
   "source": []
  },
  {
   "cell_type": "markdown",
   "metadata": {},
   "source": [
    "## Saving Model"
   ]
  },
  {
   "cell_type": "code",
   "execution_count": 45,
   "metadata": {},
   "outputs": [],
   "source": [
    "import pickle\n",
    "\n",
    "with open('./sentiment_classifier.pkl', 'wb') as f:\n",
    "    pickle.dump(random_search, f)"
   ]
  },
  {
   "cell_type": "code",
   "execution_count": null,
   "metadata": {},
   "outputs": [],
   "source": []
  },
  {
   "cell_type": "markdown",
   "metadata": {},
   "source": [
    "#### Load & test model"
   ]
  },
  {
   "cell_type": "code",
   "execution_count": 46,
   "metadata": {},
   "outputs": [],
   "source": [
    "with open('./sentiment_classifier.pkl', 'rb') as f:\n",
    "    model = pickle.load(f)"
   ]
  },
  {
   "cell_type": "code",
   "execution_count": 47,
   "metadata": {},
   "outputs": [
    {
     "data": {
      "text/plain": [
       "\"I really have enjoyed this series and can't wait for the next one to come out. I especially liked that the author gave Kid and Jason their own stories, even though they occurred at the same time. She could have easily put them both into one book and jumped between locations. I am so glad she didn't.The last two installments have not had as much sensuality as the previous 3 books, but the story line is there, so you don't necessarily miss it. I do like how she has not just dropped the other characters in sacrifice to the current beau.This is a great series.\""
      ]
     },
     "execution_count": 47,
     "metadata": {},
     "output_type": "execute_result"
    }
   ],
   "source": [
    "test_x[0]"
   ]
  },
  {
   "cell_type": "code",
   "execution_count": 49,
   "metadata": {},
   "outputs": [
    {
     "data": {
      "text/plain": [
       "array(['POSITIVE'], dtype='<U8')"
      ]
     },
     "execution_count": 49,
     "metadata": {},
     "output_type": "execute_result"
    }
   ],
   "source": [
    "\n",
    "model.predict(test_x_vector[0])"
   ]
  },
  {
   "cell_type": "code",
   "execution_count": null,
   "metadata": {},
   "outputs": [],
   "source": []
  }
 ],
 "metadata": {
  "kernelspec": {
   "display_name": "Python 3",
   "language": "python",
   "name": "python3"
  },
  "language_info": {
   "codemirror_mode": {
    "name": "ipython",
    "version": 3
   },
   "file_extension": ".py",
   "mimetype": "text/x-python",
   "name": "python",
   "nbconvert_exporter": "python",
   "pygments_lexer": "ipython3",
   "version": "3.8.5"
  }
 },
 "nbformat": 4,
 "nbformat_minor": 4
}
